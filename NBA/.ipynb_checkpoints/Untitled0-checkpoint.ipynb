{
 "metadata": {
  "name": "",
  "signature": "sha256:736f6aa0e4e40c3d3040d39e4b8cac0a094f9abd6a65d4592874579089a9e599"
 },
 "nbformat": 3,
 "nbformat_minor": 0,
 "worksheets": []
}